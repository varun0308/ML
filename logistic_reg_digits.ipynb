{
 "cells": [
  {
   "cell_type": "code",
   "execution_count": 6,
   "metadata": {},
   "outputs": [],
   "source": [
    "import numpy as np\n",
    "from sklearn import datasets\n",
    "import matplotlib.pyplot as plt"
   ]
  },
  {
   "cell_type": "code",
   "execution_count": 7,
   "metadata": {},
   "outputs": [
    {
     "name": "stdout",
     "output_type": "stream",
     "text": [
      "<class 'sklearn.utils.Bunch'>\n",
      "(1797, 64)\n"
     ]
    }
   ],
   "source": [
    "digits = datasets.load_digits()\n",
    "print(type(digits))\n",
    "print(digits.data.shape)"
   ]
  },
  {
   "cell_type": "code",
   "execution_count": 8,
   "metadata": {},
   "outputs": [
    {
     "data": {
      "text/plain": [
       "<Figure size 432x288 with 0 Axes>"
      ]
     },
     "metadata": {},
     "output_type": "display_data"
    },
    {
     "data": {
      "image/png": "[encoded data removed]",
      "text/plain": [
       "<Figure size 288x288 with 1 Axes>"
      ]
     },
     "metadata": {
      "needs_background": "light"
     },
     "output_type": "display_data"
    }
   ],
   "source": [
    "plt.gray() \n",
    "plt.matshow(digits.images[170]) \n",
    "plt.show()"
   ]
  },
  {
   "cell_type": "code",
   "execution_count": 9,
   "metadata": {},
   "outputs": [],
   "source": [
    "def initialize(m,features) :\n",
    "    weights = np.random.randint(100,size=(features+1,1))*0.01\n",
    "    X = digits.data\n",
    "    y = digits.target.reshape(m,1)\n",
    "    X = np.c_[np.ones((m,1)),X]\n",
    "    \n",
    "    return X,y,weights\n"
   ]
  },
  {
   "cell_type": "code",
   "execution_count": 10,
   "metadata": {},
   "outputs": [],
   "source": [
    "def sigmoid(z) :\n",
    "    sig = 1/(1+np.exp(-z)) \n",
    "    return sig"
   ]
  },
  {
   "cell_type": "code",
   "execution_count": 11,
   "metadata": {},
   "outputs": [],
   "source": [
    "def gradient_descent(X,y,weights,learning_rate,iterations) :\n",
    "    for i in range(iterations) :\n",
    "        # X -> m,65   weights -> 65,1\n",
    "        hypothesis = sigmoid(np.dot(X,weights))\n",
    "        with np.errstate(all='ignore'):\n",
    "            cost = -np.mean(y*np.log(hypothesis) + (1-y)*np.log(1-hypothesis))\n",
    "        cost_diff = -np.mean(X*(y-hypothesis),axis = 0).reshape(features+1,1)\n",
    "        weights = weights -  learning_rate*(cost_diff)   \n",
    "    print(\"Cost\", cost)\n",
    "    return weights"
   ]
  },
  {
   "cell_type": "code",
   "execution_count": 24,
   "metadata": {},
   "outputs": [],
   "source": [
    "def train(m,features,k):\n",
    "    final_weights = np.zeros((features+1,1))\n",
    "    for i in range(k) :\n",
    "        print(\"For digit\",i)\n",
    "        \n",
    "        X_mod,y,weights = initialize(m,features)\n",
    "\n",
    "        rows = (y == i)\n",
    "        output = rows.astype(int).reshape((X_mod.shape[0],1))\n",
    "\n",
    "        weights = gradient_descent(X_mod,output,weights,learning_rate=0.05,iterations=500)\n",
    "        final_weights = np.concatenate((final_weights,weights),axis=1)\n",
    "    final_weights = final_weights[:,1:]\n",
    "    return final_weights,X_mod,y"
   ]
  },
  {
   "cell_type": "code",
   "execution_count": 25,
   "metadata": {},
   "outputs": [],
   "source": [
    "def predict(X,y,final_weights):\n",
    "    predictions = sigmoid(np.dot(X,final_weights))\n",
    "    predictions = np.argmax(predictions,axis = 1).reshape(m,1)\n",
    "    accuracy = predictions == y\n",
    "    print(\"Accuracy of model\",np.mean(accuracy)*100)\n",
    "    return predictions"
   ]
  },
  {
   "cell_type": "code",
   "execution_count": 26,
   "metadata": {},
   "outputs": [
    {
     "name": "stdout",
     "output_type": "stream",
     "text": [
      "For digit 0\n",
      "Cost 0.004868778879300511\n",
      "For digit 1\n",
      "Cost 0.06627115925454054\n",
      "For digit 2\n",
      "Cost 0.004421967996932229\n",
      "For digit 3\n",
      "Cost 0.03801941066970731\n",
      "For digit 4\n",
      "Cost 0.006820939679985788\n",
      "For digit 5\n",
      "Cost 0.019275137836012608\n",
      "For digit 6\n",
      "Cost 0.018947772837467562\n",
      "For digit 7\n",
      "Cost 0.01921267585410332\n",
      "For digit 8\n",
      "Cost 0.16162389458950527\n",
      "For digit 9\n",
      "Cost 0.05193638740120931\n",
      "Accuracy of model 97.16193656093489\n"
     ]
    }
   ],
   "source": [
    "m = digits.data.shape[0]\n",
    "features = digits.data.shape[1]\n",
    "k = 10\n",
    "\n",
    "final_weights,X,y = train(m,features,k)\n",
    "prediction = predict(X,y,final_weights) "
   ]
  },
  {
   "cell_type": "code",
   "execution_count": null,
   "metadata": {},
   "outputs": [],
   "source": []
  }
 ],
 "metadata": {
  "interpreter": {
   "hash": "d6fae5423283988a1f203f784ae9cfad4c34cb6feea49a0d1f54c80e10af6504"
  },
  "kernelspec": {
   "display_name": "Python 3.9.6 64-bit",
   "language": "python",
   "name": "python3"
  },
  "language_info": {
   "codemirror_mode": {
    "name": "ipython",
    "version": 3
   },
   "file_extension": ".py",
   "mimetype": "text/x-python",
   "name": "python",
   "nbconvert_exporter": "python",
   "pygments_lexer": "ipython3",
   "version": "3.9.6"
  },
  "orig_nbformat": 4
 },
 "nbformat": 4,
 "nbformat_minor": 2
}
