{
 "cells": [
  {
   "cell_type": "code",
   "execution_count": 1,
   "metadata": {},
   "outputs": [],
   "source": [
    "import numpy as np\n",
    "from sklearn import datasets\n",
    "import matplotlib.pyplot as plt"
   ]
  },
  {
   "cell_type": "code",
   "execution_count": 2,
   "metadata": {},
   "outputs": [
    {
     "name": "stdout",
     "output_type": "stream",
     "text": [
      "<class 'sklearn.utils.Bunch'>\n",
      "(1797, 64)\n"
     ]
    }
   ],
   "source": [
    "digits = datasets.load_digits()\n",
    "print(type(digits))\n",
    "print(digits.data.shape)\n"
   ]
  },
  {
   "cell_type": "code",
   "execution_count": 3,
   "metadata": {},
   "outputs": [
    {
     "data": {
      "text/plain": [
       "<Figure size 432x288 with 0 Axes>"
      ]
     },
     "metadata": {},
     "output_type": "display_data"
    },
    {
     "data": {
      "image/png": "[encoded data removed]",
      "text/plain": [
       "<Figure size 288x288 with 1 Axes>"
      ]
     },
     "metadata": {
      "needs_background": "light"
     },
     "output_type": "display_data"
    },
    {
     "name": "stdout",
     "output_type": "stream",
     "text": [
      "0\n"
     ]
    }
   ],
   "source": [
    "plt.gray() \n",
    "plt.matshow(digits.images[160]) \n",
    "plt.show()\n",
    "print(digits.target[160])"
   ]
  },
  {
   "cell_type": "code",
   "execution_count": 4,
   "metadata": {},
   "outputs": [],
   "source": [
    "def initialize(m,features) :\n",
    "    weights = np.random.randint(100,size=(features+1,1))*0.01\n",
    "    X = digits.data\n",
    "    y = digits.target.reshape(m,1)\n",
    "    X = np.c_[np.ones((m,1)),X]\n",
    "    \n",
    "    return X,y,weights\n"
   ]
  },
  {
   "cell_type": "code",
   "execution_count": 5,
   "metadata": {},
   "outputs": [],
   "source": [
    "def sigmoid(z) :\n",
    "    sig = 1/(1+np.exp(-z)) \n",
    "    return sig"
   ]
  },
  {
   "cell_type": "code",
   "execution_count": 6,
   "metadata": {},
   "outputs": [],
   "source": [
    "def gradient_descent(X,y,weights,learning_rate,iterations) :\n",
    "    for i in range(iterations) :\n",
    "        # X -> m,65   weights -> 65,1\n",
    "        hypothesis = sigmoid(np.dot(X,weights))\n",
    "        with np.errstate(all='ignore'):\n",
    "            cost = -np.mean(y*np.log(hypothesis) + (1-y)*np.log(1-hypothesis))\n",
    "        cost_diff = -np.mean(X*(y-hypothesis),axis = 0).reshape(features+1,1)\n",
    "        weights = weights -  learning_rate*(cost_diff)   \n",
    "    print(\"Cost\", cost)\n",
    "    return weights"
   ]
  },
  {
   "cell_type": "code",
   "execution_count": 7,
   "metadata": {},
   "outputs": [],
   "source": [
    "def train(m,features,k):\n",
    "    final_weights = np.zeros((features+1,1))\n",
    "    for i in range(k) :\n",
    "        print(\"For digit\",i)\n",
    "        \n",
    "        X_mod,y,weights = initialize(m,features)\n",
    "\n",
    "        rows = (y == i)\n",
    "        output = rows.astype(int).reshape((X_mod.shape[0],1))\n",
    "\n",
    "        weights = gradient_descent(X_mod,output,weights,learning_rate=0.05,iterations=500)\n",
    "        final_weights = np.concatenate((final_weights,weights),axis=1)\n",
    "    final_weights = final_weights[:,1:]\n",
    "    return final_weights,X_mod,y"
   ]
  },
  {
   "cell_type": "code",
   "execution_count": 8,
   "metadata": {},
   "outputs": [],
   "source": [
    "def predict(X,y,m,final_weights):\n",
    "    predictions = sigmoid(np.dot(X,final_weights))\n",
    "    predictions = np.argmax(predictions,axis = 1).reshape(m,1)\n",
    "    accuracy = (predictions == y)\n",
    "    print(\"Accuracy of model\",np.mean(accuracy)*100)\n",
    "    return predictions"
   ]
  },
  {
   "cell_type": "code",
   "execution_count": 9,
   "metadata": {},
   "outputs": [
    {
     "name": "stdout",
     "output_type": "stream",
     "text": [
      "For digit 0\n",
      "Cost 0.004005865495472502\n",
      "For digit 1\n",
      "Cost 0.05194270381938929\n",
      "For digit 2\n",
      "Cost 0.006155016895986413\n",
      "For digit 3\n",
      "Cost 0.033516574307512474\n",
      "For digit 4\n",
      "Cost 0.007988061227620993\n",
      "For digit 5\n",
      "Cost 0.02473045613600106\n",
      "For digit 6\n",
      "Cost 0.014086599042477756\n",
      "For digit 7\n",
      "Cost nan\n",
      "For digit 8\n",
      "Cost 0.14358592263717856\n",
      "For digit 9\n",
      "Cost 0.045589775111051334\n",
      "Accuracy of model 96.661101836394\n"
     ]
    }
   ],
   "source": [
    "\n",
    "m = digits.data.shape[0]\n",
    "features = digits.data.shape[1]\n",
    "k = 10  # number of digits (classes)\n",
    "\n",
    "final_weights,X,y = train(m,features,k)\n",
    "prediction = predict(X,y,m,final_weights) "
   ]
  },
  {
   "cell_type": "code",
   "execution_count": 15,
   "metadata": {},
   "outputs": [
    {
     "name": "stdout",
     "output_type": "stream",
     "text": [
      "8\n"
     ]
    }
   ],
   "source": [
    "predictions = sigmoid(np.dot(X[-1],final_weights))\n",
    "print(np.argmax(predictions))"
   ]
  },
  {
   "cell_type": "code",
   "execution_count": 26,
   "metadata": {},
   "outputs": [
    {
     "name": "stdout",
     "output_type": "stream",
     "text": [
      "(1797, 65) (65,) (65, 10)\n",
      "1737\n"
     ]
    }
   ],
   "source": [
    "count = 0\n",
    "for i in range(m):\n",
    "    blah = X[i].reshape(1,features+1)\n",
    "    \n",
    "    predictions = sigmoid(np.dot(blah,final_weights))\n",
    "    if np.argmax(predictions) == y[i]:\n",
    "        count += 1\n",
    "print(X.shape,X[i].shape,final_weights.shape)\n",
    "print(count)"
   ]
  },
  {
   "cell_type": "code",
   "execution_count": null,
   "metadata": {},
   "outputs": [],
   "source": []
  }
 ],
 "metadata": {
  "kernelspec": {
   "display_name": "Python 3.9.6 64-bit",
   "language": "python",
   "name": "python3"
  },
  "language_info": {
   "codemirror_mode": {
    "name": "ipython",
    "version": 3
   },
   "file_extension": ".py",
   "mimetype": "text/x-python",
   "name": "python",
   "nbconvert_exporter": "python",
   "pygments_lexer": "ipython3",
   "version": "3.9.6"
  },
  "orig_nbformat": 4,
  "vscode": {
   "interpreter": {
    "hash": "5ccf9f24fb63ed59c236fd10a93cb8b545ca3a39e47263b99763c8981aafa253"
   }
  }
 },
 "nbformat": 4,
 "nbformat_minor": 2
}
