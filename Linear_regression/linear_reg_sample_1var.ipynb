{
 "cells": [
  {
   "cell_type": "code",
   "execution_count": 1,
   "metadata": {},
   "outputs": [],
   "source": [
    "import pandas as pd\n",
    "import numpy as np\n",
    "import matplotlib.pyplot as plt\n",
    "import math\n",
    "import random\n"
   ]
  },
  {
   "cell_type": "code",
   "execution_count": 2,
   "metadata": {},
   "outputs": [
    {
     "name": "stdout",
     "output_type": "stream",
     "text": [
      "      input    output\n",
      "0    6.1101  17.59200\n",
      "1    5.5277   9.13020\n",
      "2    8.5186  13.66200\n",
      "3    7.0032  11.85400\n",
      "4    5.8598   6.82330\n",
      "..      ...       ...\n",
      "92   5.8707   7.20290\n",
      "93   5.3054   1.98690\n",
      "94   8.2934   0.14454\n",
      "95  13.3940   9.05510\n",
      "96   5.4369   0.61705\n",
      "\n",
      "[97 rows x 2 columns]\n",
      "0      6.1101\n",
      "1      5.5277\n",
      "2      8.5186\n",
      "3      7.0032\n",
      "4      5.8598\n",
      "       ...   \n",
      "92     5.8707\n",
      "93     5.3054\n",
      "94     8.2934\n",
      "95    13.3940\n",
      "96     5.4369\n",
      "Name: input, Length: 97, dtype: float64\n",
      "0     17.59200\n",
      "1      9.13020\n",
      "2     13.66200\n",
      "3     11.85400\n",
      "4      6.82330\n",
      "        ...   \n",
      "92     7.20290\n",
      "93     1.98690\n",
      "94     0.14454\n",
      "95     9.05510\n",
      "96     0.61705\n",
      "Name: output, Length: 97, dtype: float64\n"
     ]
    }
   ],
   "source": [
    "filename = \"ex1data1.csv\"\n",
    "df = pd.read_csv(filename)\n",
    "\n",
    "print(df)\n",
    "print(df.input)\n",
    "print(df.output)"
   ]
  },
  {
   "cell_type": "code",
   "execution_count": 3,
   "metadata": {},
   "outputs": [
    {
     "data": {
      "image/png": "[encoded data removed]",
      "text/plain": [
       "<Figure size 432x288 with 1 Axes>"
      ]
     },
     "metadata": {
      "needs_background": "light"
     },
     "output_type": "display_data"
    }
   ],
   "source": [
    "# scatter to mark only dots \n",
    "plt.scatter(df.input,df.output)\n",
    "plt.xlabel(\"input\")\n",
    "plt.ylabel(\"outputs\")\n",
    "plt.show()\n"
   ]
  },
  {
   "cell_type": "code",
   "execution_count": 4,
   "metadata": {},
   "outputs": [],
   "source": [
    "def initialise_var(m) :\n",
    "    input = np.array(df.input).reshape(m,1)\n",
    "    output = np.array(df.output).reshape(m,1)\n",
    "    # theta = np.random.randint(100,size=(2,1))*0.1\n",
    "    theta = [[0],[0]]\n",
    "    \n",
    "    return input,output,theta\n"
   ]
  },
  {
   "cell_type": "code",
   "execution_count": 5,
   "metadata": {},
   "outputs": [],
   "source": [
    "def gradientDescent(theta,X,y,learning_rate,iterations):\n",
    "    for w in range(iterations) :\n",
    "    \n",
    "        # m*1 matrix\n",
    "        hypothesis = X*theta[1] + theta[0]\n",
    "\n",
    "        # m*1 matrix\n",
    "        cost_J = np.mean(np.square(hypothesis - y))/2\n",
    "\n",
    "        # Value updation\n",
    "        theta[1] = theta[1] - learning_rate*(np.mean((hypothesis-y)*X))\n",
    "        theta[0] = theta[0] - learning_rate*(np.mean(hypothesis-y))\n",
    "\n",
    "    print(\"Final cost :\",cost_J)\n",
    "    return theta"
   ]
  },
  {
   "cell_type": "code",
   "execution_count": 6,
   "metadata": {},
   "outputs": [
    {
     "name": "stdout",
     "output_type": "stream",
     "text": [
      "theta before gd :  [[0], [0]]\n",
      "Final cost : 4.483411453374869\n",
      "theta after gd :  [array([-3.63029144]), array([1.16636235])]\n",
      "Deviation : 2.2107957911759386\n"
     ]
    }
   ],
   "source": [
    "m = len(df)\n",
    "X,y,theta = initialise_var(m)\n",
    "print(\"theta before gd : \",theta)\n",
    "theta = gradientDescent(theta,X,y,learning_rate=0.01,iterations=1500)\n",
    "print(\"theta after gd : \",theta)\n",
    "prediction_hp = np.array(theta[0] + X*theta[1])\n",
    "prediction_hp.reshape(m,1)\n",
    "print(\"Deviation :\",(np.mean(np.abs(prediction_hp-y))))"
   ]
  },
  {
   "cell_type": "code",
   "execution_count": 7,
   "metadata": {},
   "outputs": [
    {
     "data": {
      "image/png": "[encoded data removed]",
      "text/plain": [
       "<Figure size 432x288 with 1 Axes>"
      ]
     },
     "metadata": {
      "needs_background": "light"
     },
     "output_type": "display_data"
    }
   ],
   "source": [
    "plt.plot(X,prediction_hp,X,y,'r*')\n",
    "plt.xlabel(\"area\"); plt.ylabel(\"prices\")\n",
    "plt.show()"
   ]
  },
  {
   "cell_type": "code",
   "execution_count": null,
   "metadata": {},
   "outputs": [],
   "source": []
  },
  {
   "cell_type": "code",
   "execution_count": null,
   "metadata": {},
   "outputs": [],
   "source": []
  }
 ],
 "metadata": {
  "interpreter": {
   "hash": "d6fae5423283988a1f203f784ae9cfad4c34cb6feea49a0d1f54c80e10af6504"
  },
  "kernelspec": {
   "display_name": "Python 3.9.6 64-bit",
   "language": "python",
   "name": "python3"
  },
  "language_info": {
   "codemirror_mode": {
    "name": "ipython",
    "version": 3
   },
   "file_extension": ".py",
   "mimetype": "text/x-python",
   "name": "python",
   "nbconvert_exporter": "python",
   "pygments_lexer": "ipython3",
   "version": "3.9.6"
  },
  "orig_nbformat": 4
 },
 "nbformat": 4,
 "nbformat_minor": 2
}
