{
 "cells": [
  {
   "cell_type": "code",
   "execution_count": 1,
   "metadata": {},
   "outputs": [],
   "source": [
    "import numpy as np\n",
    "import pandas as pd\n",
    "import math\n",
    "pd.options.mode.chained_assignment = None  # default='warn'"
   ]
  },
  {
   "cell_type": "code",
   "execution_count": 2,
   "metadata": {},
   "outputs": [],
   "source": [
    "def Dataprocess(location):\n",
    "    df = pd.read_csv(location)\n",
    "    \n",
    "    df.drop_duplicates(inplace=True)    # inplace is for overwriting\n",
    "    \n",
    "    df = df.drop(['PassengerId','Name','Ticket','Cabin'],axis=1)\n",
    "    \n",
    "    # Use df.replace\n",
    "    df.Sex[df.Sex == 'male'] = 1\n",
    "    df.Sex[df.Sex == 'female'] = 0\n",
    "\n",
    "    df.Embarked[df.Embarked == 'S'] = 1\n",
    "    df.Embarked[df.Embarked == 'C'] = 0\n",
    "    df.Embarked[df.Embarked == 'Q'] = 2\n",
    "    \n",
    "    age = df['Age']\n",
    "    df['Age'] = (age - age.mean())/age.std()\n",
    "    df['Age'].fillna(df['Age'].mean())\n",
    "\n",
    "    fare = df['Fare']\n",
    "    df['Fare'] = (fare - fare.mean())/fare.std()\n",
    "    df['Fare'].fillna(df['Fare'].mean())\n",
    "\n",
    "    df.ffill(inplace = True) \n",
    "    print(df.isna().sum())\n",
    "    return df"
   ]
  },
  {
   "cell_type": "code",
   "execution_count": 3,
   "metadata": {},
   "outputs": [
    {
     "name": "stdout",
     "output_type": "stream",
     "text": [
      "Survived    0\n",
      "Pclass      0\n",
      "Sex         0\n",
      "Age         0\n",
      "SibSp       0\n",
      "Parch       0\n",
      "Fare        0\n",
      "Embarked    0\n",
      "dtype: int64\n",
      "Pclass      0\n",
      "Sex         0\n",
      "Age         0\n",
      "SibSp       0\n",
      "Parch       0\n",
      "Fare        0\n",
      "Embarked    0\n",
      "dtype: int64\n"
     ]
    }
   ],
   "source": [
    "# split into train test sets\n",
    "train_loc = r\"C:\\Users\\varun\\Coding\\ML\\titanic\\train.csv\"\n",
    "df_train = Dataprocess(train_loc)\n",
    "X_train = np.array(df_train.drop(['Survived'],axis = 1))\n",
    "y_train = np.array(df_train['Survived'])\n",
    "\n",
    "test_loc = r\"C:\\Users\\varun\\Coding\\ML\\titanic\\test.csv\"\n",
    "df_test = Dataprocess(test_loc)\n",
    "X_test = np.array(df_test)\n"
   ]
  },
  {
   "cell_type": "code",
   "execution_count": 4,
   "metadata": {},
   "outputs": [
    {
     "name": "stdout",
     "output_type": "stream",
     "text": [
      "X_train:  (891, 7)\n",
      "Y_train:  (891, 1)\n",
      "X_test:   (418, 7)\n"
     ]
    }
   ],
   "source": [
    "y_train = y_train.reshape(y_train.shape[0],1)\n",
    "print('X_train: ' ,(X_train.shape))\n",
    "print('Y_train: ' ,(y_train.shape))\n",
    "print('X_test:  ' ,(X_test.shape))"
   ]
  },
  {
   "cell_type": "code",
   "execution_count": 5,
   "metadata": {},
   "outputs": [],
   "source": [
    "def sigmoid(Z) :\n",
    "    Z = np.asarray(Z, dtype = np.float64)\n",
    "    return(1/(1+np.exp(-Z)))"
   ]
  },
  {
   "cell_type": "code",
   "execution_count": 7,
   "metadata": {},
   "outputs": [],
   "source": [
    "def initialize_parameters(layers):  \n",
    "    parameters = {}\n",
    "\n",
    "    for i in range(len(layers)-1) :\n",
    "        W = np.random.randn(layers[i],layers[i+1]) * 0.01\n",
    "        b = np.zeros((1,layers[i+1]))\n",
    "\n",
    "        parameters[\"W\"+str(i+1)] = W\n",
    "        parameters[\"b\"+str(i+1)] = b\n",
    "        \n",
    "    return parameters"
   ]
  },
  {
   "cell_type": "code",
   "execution_count": 8,
   "metadata": {},
   "outputs": [],
   "source": [
    "def tanh_deriv(A) :\n",
    "    return (1 - np.power(A,2))"
   ]
  },
  {
   "cell_type": "code",
   "execution_count": 9,
   "metadata": {},
   "outputs": [],
   "source": [
    "def cost_function(y,A_final):\n",
    "    cost =  -np.mean(np.multiply(y,np.log(A_final)) + np.multiply((1-y),np.log(1-A_final)))\n",
    "    cost = float(np.squeeze(cost))\n",
    "    return cost"
   ]
  },
  {
   "cell_type": "code",
   "execution_count": 10,
   "metadata": {},
   "outputs": [],
   "source": [
    "def forward_propagation(X, parameters, layers) :\n",
    "\n",
    "    cache  = {}\n",
    "    A = X\n",
    "    for i in range(len(layers) - 2) :\n",
    "        Z = np.dot(A,parameters[\"W\"+str(i+1)]) + parameters[\"b\"+str(i+1)]\n",
    "        A = np.tanh(Z).reshape(A.shape[0],parameters[\"b\"+str(i+1)].shape[1])\n",
    "        \n",
    "        cache[\"Z\"+str(i+1)] = Z\n",
    "        cache[\"A\"+str(i+1)] = A\n",
    "        # print(A.shape,Z.shape)    \n",
    "\n",
    "    Z = np.dot(A,parameters[\"W\"+str(i+2)]) + parameters[\"b\"+str(i+2)]\n",
    "    A = sigmoid(Z).reshape(A.shape[0],parameters[\"b\"+str(i+2)].shape[1])\n",
    "\n",
    "    cache[\"Z\"+str(i+2)] = Z\n",
    "    cache[\"A\"+str(i+2)] = A\n",
    "    cache[\"A0\"] = X\n",
    "    \n",
    "    \n",
    "    return cache"
   ]
  },
  {
   "cell_type": "code",
   "execution_count": 11,
   "metadata": {},
   "outputs": [],
   "source": [
    "def backward_propagation(layers,cache,parameters,X,y,m):\n",
    "\n",
    "    grads = {}\n",
    "    n_l = len(layers)\n",
    "    pos = str(n_l - 1)\n",
    "    prev_pos = str(n_l - 2)\n",
    "\n",
    "    dZ = cache[\"A\"+pos] - y\n",
    "    \n",
    "    dW = (1/m)*np.dot(cache[\"A\"+prev_pos].T,dZ)\n",
    "    db = (1/m)*(np.sum(dZ,axis=0,keepdims=True))\n",
    "\n",
    "    grads[\"dW\"+pos] = dW\n",
    "    grads[\"db\"+pos] = db\n",
    "    # print(pos,dW.shape,db.shape)\n",
    "    \n",
    "    for i in range(n_l - 1,1,-1) :\n",
    "        # print(dZ.shape,parameters[\"W\"+pos].shape,reLU_deriv(cache[\"A\"+prev_pos]).shape)\n",
    "        pos = str(i)\n",
    "        prev_pos = str(i-1)\n",
    "        prev_prev_pos = str(i-2)\n",
    "\n",
    "        cal = np.dot(dZ,parameters[\"W\"+pos].T)\n",
    "        dZ = np.multiply(cal,tanh_deriv(cache[\"A\"+prev_pos]))\n",
    "\n",
    "        dW = (1/m)*np.dot(cache[\"A\"+ prev_prev_pos].T,dZ)\n",
    "        db = (1/m)*(np.sum(dZ,axis=0,keepdims=True))\n",
    "\n",
    "        grads[\"dW\"+prev_pos] = dW\n",
    "        grads[\"db\"+prev_pos] = db\n",
    "        # print(pos,dW.shape,db.shape)\n",
    "\n",
    "    return grads"
   ]
  },
  {
   "cell_type": "code",
   "execution_count": 12,
   "metadata": {},
   "outputs": [],
   "source": [
    "def update_parameters(layers, parameters, grads, learning_rate):\n",
    "\n",
    "    for i in range(len(layers)-1):\n",
    "        W = parameters[\"W\"+str(i+1)] - learning_rate*grads[\"dW\"+str(i+1)]\n",
    "        b = parameters[\"b\"+str(i+1)] - learning_rate*grads[\"db\"+str(i+1)]\n",
    "\n",
    "        parameters[\"W\"+str(i+1)] = W\n",
    "        parameters[\"b\"+str(i+1)] = b\n",
    "    \n",
    "    return parameters"
   ]
  },
  {
   "cell_type": "code",
   "execution_count": 13,
   "metadata": {},
   "outputs": [
    {
     "name": "stdout",
     "output_type": "stream",
     "text": [
      "W1  shape:  (7, 4)\n",
      "b1  shape:  (1, 4)\n",
      "W2  shape:  (4, 1)\n",
      "b2  shape:  (1, 1)\n",
      "Cost for 0 iterations 0.6930363662249788\n",
      "Cost for 1000 iterations 0.40183278959061625\n",
      "Cost for 2000 iterations 0.3967593065093422\n",
      "Cost for 3000 iterations 0.39420888031410006\n",
      "Cost for 4000 iterations 0.39259692785407735\n",
      "Cost for 5000 iterations 0.39081146230632746\n",
      "Cost for 6000 iterations 0.38991897125286984\n",
      "Cost for 7000 iterations 0.3894631917905758\n",
      "Cost for 8000 iterations 0.38909754279893044\n",
      "Cost for 9000 iterations 0.3887434198521201\n",
      "Final cost after 9999 iterations 0.38814710699857186\n"
     ]
    }
   ],
   "source": [
    "iterations = 10000\n",
    "learning_rate = 0.5\n",
    "m = X_train.shape[0]\n",
    "layers = [7,4,1]\n",
    "\n",
    "parameters = initialize_parameters(layers)\n",
    "for i in range(len(layers) - 1):\n",
    "    print(\"W\"+str(i+1),\" shape: \",parameters[\"W\"+str(i+1)].shape)\n",
    "    print(\"b\"+str(i+1),\" shape: \",parameters[\"b\"+str(i+1)].shape) \n",
    "\n",
    "for i in range(0, iterations) :\n",
    "    cache = forward_propagation(X_train,parameters,layers)\n",
    "    grads = backward_propagation(layers,cache,parameters,X_train,y_train,m)\n",
    "    parameters = update_parameters(layers, parameters, grads, learning_rate)\n",
    "    \n",
    "    if i%1000 == 0:\n",
    "        print(\"Cost for\",i,\"iterations\",cost_function(y_train, cache[\"A\"+str(len(layers) - 1)]))\n",
    "# print(parameters)\n",
    "# print(cache)\n",
    "# print(grads)\n",
    "print(\"Final cost after\",i,\"iterations\",cost_function(y_train, cache[\"A\"+str(len(layers) - 1)]))"
   ]
  },
  {
   "cell_type": "code",
   "execution_count": 14,
   "metadata": {},
   "outputs": [
    {
     "name": "stdout",
     "output_type": "stream",
     "text": [
      "83.16498316498317\n"
     ]
    }
   ],
   "source": [
    "result = forward_propagation(X_train,parameters,layers)\n",
    "final = result[\"A\"+str(len(layers)-1)]\n",
    "final[final > 0.5] = 1\n",
    "final[final < 0.5] = 0\n",
    "\n",
    "print(np.mean(final == y_train)*100)"
   ]
  },
  {
   "cell_type": "code",
   "execution_count": 15,
   "metadata": {},
   "outputs": [],
   "source": [
    "result = forward_propagation(X_test,parameters,layers)\n",
    "final = result[\"A\"+str(len(layers)-1)]\n",
    "final[final > 0.5] = 1\n",
    "final[final < 0.5] = 0\n",
    "\n",
    "myvar = []\n",
    "for i in range(final.shape[0]) :\n",
    "    myvar.append([892+i,int(final[i][0])])\n",
    "\n",
    "df = pd.DataFrame(myvar , columns = [\"PassengerId\",\"Survived\"])\n",
    "df.to_csv(r'C:\\Users\\varun\\Coding\\ML\\titanic\\gender_submission.csv', index=False)"
   ]
  },
  {
   "cell_type": "code",
   "execution_count": null,
   "metadata": {},
   "outputs": [],
   "source": []
  }
 ],
 "metadata": {
  "kernelspec": {
   "display_name": "Python 3.9.6 64-bit",
   "language": "python",
   "name": "python3"
  },
  "language_info": {
   "codemirror_mode": {
    "name": "ipython",
    "version": 3
   },
   "file_extension": ".py",
   "mimetype": "text/x-python",
   "name": "python",
   "nbconvert_exporter": "python",
   "pygments_lexer": "ipython3",
   "version": "3.9.6"
  },
  "orig_nbformat": 4,
  "vscode": {
   "interpreter": {
    "hash": "5ccf9f24fb63ed59c236fd10a93cb8b545ca3a39e47263b99763c8981aafa253"
   }
  }
 },
 "nbformat": 4,
 "nbformat_minor": 2
}
