{
 "cells": [
  {
   "cell_type": "code",
   "execution_count": 1,
   "metadata": {},
   "outputs": [],
   "source": [
    "import numpy as np\n",
    "import pandas as pd\n",
    "import matplotlib.pyplot as plt\n",
    "import random"
   ]
  },
  {
   "cell_type": "code",
   "execution_count": 2,
   "metadata": {},
   "outputs": [],
   "source": [
    "def Dataprocess(location):\n",
    "    df = pd.read_csv(location)\n",
    "    \n",
    "    df.drop_duplicates(inplace=True)    # inplace is for overwriting\n",
    "    \n",
    "    df = df.drop(['PassengerId','Name','Ticket','Cabin'],axis=1)\n",
    "    \n",
    "    df.Sex[df.Sex == 'male'] = 1\n",
    "    df.Sex[df.Sex == 'female'] = 0\n",
    "\n",
    "    df.Embarked[df.Embarked == 'S'] = 1\n",
    "    df.Embarked[df.Embarked == 'C'] = 0\n",
    "    df.Embarked[df.Embarked == 'Q'] = 2\n",
    "    \n",
    "    age = df['Age']\n",
    "    df['Age'] = (age - age.mean())/age.std()\n",
    "    df['Age'].fillna(df['Age'].mean())\n",
    "\n",
    "    fare = df['Fare']\n",
    "    df['Fare'] = (fare - fare.mean())/fare.std()\n",
    "    df['Fare'].fillna(df['Fare'].mean())\n",
    "\n",
    "    df.ffill(inplace = True) \n",
    "    return df"
   ]
  },
  {
   "cell_type": "code",
   "execution_count": 3,
   "metadata": {},
   "outputs": [
    {
     "name": "stderr",
     "output_type": "stream",
     "text": [
      "C:\\Users\\varun\\AppData\\Local\\Temp/ipykernel_5976/2589322004.py:8: SettingWithCopyWarning: \n",
      "A value is trying to be set on a copy of a slice from a DataFrame\n",
      "\n",
      "See the caveats in the documentation: https://pandas.pydata.org/pandas-docs/stable/user_guide/indexing.html#returning-a-view-versus-a-copy\n",
      "  df.Sex[df.Sex == 'male'] = 1\n",
      "C:\\Users\\varun\\AppData\\Local\\Temp/ipykernel_5976/2589322004.py:9: SettingWithCopyWarning: \n",
      "A value is trying to be set on a copy of a slice from a DataFrame\n",
      "\n",
      "See the caveats in the documentation: https://pandas.pydata.org/pandas-docs/stable/user_guide/indexing.html#returning-a-view-versus-a-copy\n",
      "  df.Sex[df.Sex == 'female'] = 0\n",
      "C:\\Users\\varun\\AppData\\Local\\Temp/ipykernel_5976/2589322004.py:11: SettingWithCopyWarning: \n",
      "A value is trying to be set on a copy of a slice from a DataFrame\n",
      "\n",
      "See the caveats in the documentation: https://pandas.pydata.org/pandas-docs/stable/user_guide/indexing.html#returning-a-view-versus-a-copy\n",
      "  df.Embarked[df.Embarked == 'S'] = 1\n",
      "C:\\Users\\varun\\AppData\\Local\\Temp/ipykernel_5976/2589322004.py:12: SettingWithCopyWarning: \n",
      "A value is trying to be set on a copy of a slice from a DataFrame\n",
      "\n",
      "See the caveats in the documentation: https://pandas.pydata.org/pandas-docs/stable/user_guide/indexing.html#returning-a-view-versus-a-copy\n",
      "  df.Embarked[df.Embarked == 'C'] = 0\n",
      "C:\\Users\\varun\\AppData\\Local\\Temp/ipykernel_5976/2589322004.py:13: SettingWithCopyWarning: \n",
      "A value is trying to be set on a copy of a slice from a DataFrame\n",
      "\n",
      "See the caveats in the documentation: https://pandas.pydata.org/pandas-docs/stable/user_guide/indexing.html#returning-a-view-versus-a-copy\n",
      "  df.Embarked[df.Embarked == 'Q'] = 2\n"
     ]
    }
   ],
   "source": [
    "# split into train test sets\n",
    "train_loc = r\"C:\\Users\\varun\\Coding\\ML\\Titanic_full\\titanic\\train.csv\"\n",
    "df_train = Dataprocess(train_loc)\n",
    "X_train = np.array(df_train.drop(['Survived'],axis = 1))\n",
    "y_train = np.array(df_train['Survived'])\n",
    "\n",
    "test_loc = r\"C:\\Users\\varun\\Coding\\ML\\Titanic_full\\titanic\\test.csv\"\n",
    "df_test = Dataprocess(test_loc)\n",
    "X_test = np.array(df_test)"
   ]
  },
  {
   "cell_type": "code",
   "execution_count": 4,
   "metadata": {},
   "outputs": [
    {
     "name": "stdout",
     "output_type": "stream",
     "text": [
      "X_train:  (891, 7)\n",
      "Y_train:  (891, 1)\n",
      "X_test:   (418, 7)\n"
     ]
    }
   ],
   "source": [
    "y_train = y_train.reshape(y_train.shape[0],1)\n",
    "print('X_train: ' ,(X_train.shape))\n",
    "print('Y_train: ' ,(y_train.shape))\n",
    "print('X_test:  ' ,(X_test.shape))\n",
    "iterations = []\n",
    "cost = []"
   ]
  },
  {
   "cell_type": "code",
   "execution_count": 5,
   "metadata": {},
   "outputs": [],
   "source": [
    "def sigmoid(z) :\n",
    "    a = 1/(1+np.exp(-z))\n",
    "    return a"
   ]
  },
  {
   "cell_type": "code",
   "execution_count": 6,
   "metadata": {},
   "outputs": [],
   "source": [
    "def cost_function(hypothesis):\n",
    "    cost = -np.mean(y_train*np.log(hypothesis) + (1-y_train)*np.log(1-hypothesis))\n",
    "    return cost"
   ]
  },
  {
   "cell_type": "code",
   "execution_count": 7,
   "metadata": {},
   "outputs": [],
   "source": [
    "def gradient_descent(bias,weights,m,learning_rate,iter) :\n",
    "    for i in range(iter) :\n",
    "        hypothesis = sigmoid(np.dot(X_train,weights) + bias).reshape(X_train.shape[0],1)      # 100*3  3*1 ---> 100*1\n",
    "        weights = weights - learning_rate*(np.mean(X_train*(hypothesis-y_train),axis=0).reshape(m,1))\n",
    "        bias = bias - learning_rate*(np.mean(hypothesis-y_train))\n",
    "        if i%1000 == 0:\n",
    "            cost.append(cost_function(hypothesis))\n",
    "            iterations.append(i)\n",
    "    print(\"Final cost\",cost)\n",
    "    return weights"
   ]
  },
  {
   "cell_type": "code",
   "execution_count": 8,
   "metadata": {},
   "outputs": [
    {
     "name": "stdout",
     "output_type": "stream",
     "text": [
      "(891, 1) (7, 1)\n",
      "Weights initially [[-0.00811499]\n",
      " [ 0.01536858]\n",
      " [ 0.01430439]\n",
      " [-0.00981682]\n",
      " [ 0.00725452]\n",
      " [-0.01524787]\n",
      " [ 0.00031067]]\n",
      "Final cost [0.7012160108117503, 0.4433314267646311, 0.4432356995710978, 0.44323550046675547, 0.44323550003731677, 0.443235500036389, 0.44323550003638695, 0.44323550003638695, 0.44323550003638695, 0.44323550003638695]\n",
      "Weights final [[-1.02943499]\n",
      " [-2.80878064]\n",
      " [-0.48545997]\n",
      " [-0.34216139]\n",
      " [-0.12163795]\n",
      " [ 0.14936264]\n",
      " [-0.1144695 ]]\n"
     ]
    }
   ],
   "source": [
    "m = X_train.shape[1]\n",
    "weights = (np.random.randn(m) * 0.01).reshape(m,1)\n",
    "bias = np.array([-1])\n",
    "\n",
    "print(y_train.shape,weights.shape)\n",
    "\n",
    "print(\"Weights initially\",weights)\n",
    "weights = gradient_descent(bias,weights,m,learning_rate=0.5,iter=10000)\n",
    "print(\"Weights final\",weights)"
   ]
  },
  {
   "cell_type": "code",
   "execution_count": 13,
   "metadata": {},
   "outputs": [
    {
     "data": {
      "image/png": "[encoded data removed]",
      "text/plain": [
       "<Figure size 432x288 with 1 Axes>"
      ]
     },
     "metadata": {
      "needs_background": "light"
     },
     "output_type": "display_data"
    }
   ],
   "source": [
    "import matplotlib.pyplot as plt\n",
    "\n",
    "x=iterations\n",
    "y=cost\n",
    "\n",
    "plt.plot(x,y)\n",
    "\n",
    "y_ticks = [0.7,0.65,0.6,0.55,0.5,0.45,0.4,0.35]\n",
    "plt.yticks(y_ticks)\n",
    "plt.xlabel('iterations')\n",
    "plt.ylabel('Cost')\n",
    "plt.title(\"Logistic Regression\")\n",
    "plt.show()"
   ]
  },
  {
   "cell_type": "code",
   "execution_count": 10,
   "metadata": {},
   "outputs": [
    {
     "name": "stdout",
     "output_type": "stream",
     "text": [
      "0.6184062850729517\n"
     ]
    }
   ],
   "source": [
    "p = sigmoid(np.dot(X_train,weights)) >= 0.5\n",
    "accuracy = p == y_train\n",
    "print(np.mean(accuracy))"
   ]
  },
  {
   "cell_type": "code",
   "execution_count": null,
   "metadata": {},
   "outputs": [],
   "source": []
  }
 ],
 "metadata": {
  "kernelspec": {
   "display_name": "Python 3.9.6 64-bit",
   "language": "python",
   "name": "python3"
  },
  "language_info": {
   "codemirror_mode": {
    "name": "ipython",
    "version": 3
   },
   "file_extension": ".py",
   "mimetype": "text/x-python",
   "name": "python",
   "nbconvert_exporter": "python",
   "pygments_lexer": "ipython3",
   "version": "3.9.6"
  },
  "orig_nbformat": 4,
  "vscode": {
   "interpreter": {
    "hash": "5ccf9f24fb63ed59c236fd10a93cb8b545ca3a39e47263b99763c8981aafa253"
   }
  }
 },
 "nbformat": 4,
 "nbformat_minor": 2
}
